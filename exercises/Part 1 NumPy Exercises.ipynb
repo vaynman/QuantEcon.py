{
 "cells": [
  {
   "cell_type": "markdown",
   "metadata": {},
   "source": [
    "### Exercise 1\n",
    "Consider the polynomial\n",
    "$$\n",
    "p(x) = a_0 + a_1 x + a_2 x^2 + \\cdots + a_n x^n = \\sum_{i=0}^n a_i x^i\n",
    "$$\n",
    "Write a function `p(x, coeff)` tjat computes the value given a point `x` and a list of coefficients `coeff`, but uses NumPy arrays and array operations for its computations."
   ]
  },
  {
   "cell_type": "code",
   "execution_count": 8,
   "metadata": {},
   "outputs": [
    {
     "name": "stdout",
     "output_type": "stream",
     "text": [
      "88.0\n"
     ]
    }
   ],
   "source": [
    "import numpy as np\n",
    "\n",
    "def p(x, coeff):\n",
    "    X = np.ones(len(coeff))\n",
    "    X[1:] = x\n",
    "    return np.cumprod(X) @ coeff\n",
    "\n",
    "coeff = [1, 2, 0, 3]\n",
    "print(p(3, coeff))"
   ]
  },
  {
   "cell_type": "markdown",
   "metadata": {},
   "source": [
    "### Exercise 2\n",
    "Let `q` be a NumPy array of length `n` with `q.sum() == 1`\n",
    "\n",
    "Suppose that `q` represents a probability mass function\n",
    "\n",
    "We wish to generate a discrete random variable $x$ such that $\\mathbb{P}\\{x = i\\} = q_i$\n",
    "\n",
    "In other words, `x` takes values in `range(len(q))` and `x = i` with probability `q[i]`\n",
    "\n",
    "The standard (inverse transform) algorithm is as follows:\n",
    "- Divide the unit interval $[0, 1]$ into $n$ subintervals $I_0, I_1, \\ldots, I_{n-1}$ such that the length of $I_i$ is $q_i$\n",
    "- Draw a uniform random variable $U$ on $[0, 1]$ and return the $i$ such that $U \\in I_i$\n",
    "\n",
    "The probability of drawing $i$ is the length $I_i$, which is equal to $q_i$. \n",
    "\n",
    "Create a class `discreteRV` where\n",
    "- the data for an instance of the class is the vector of probabilities `q`\n",
    "- the class has a `draw(k)` method which returns `k` draws from `q`"
   ]
  },
  {
   "cell_type": "code",
   "execution_count": 56,
   "metadata": {},
   "outputs": [
    {
     "name": "stdout",
     "output_type": "stream",
     "text": [
      "x = 0:  10.12%, P(x = 0) = 10.00%\n",
      "x = 1:  30.47%, P(x = 1) = 30.00%\n",
      "x = 2:  59.41%, P(x = 2) = 60.00%\n"
     ]
    }
   ],
   "source": [
    "import numpy as np\n",
    "import matplotlib.pyplot as plt\n",
    "\n",
    "class discreteRV:\n",
    "    \n",
    "    def __init__(self, q):\n",
    "        self.q = np.array(q)\n",
    "    \n",
    "    def draw(self, k):\n",
    "        interval_endpoints = self.q.cumsum()\n",
    "        U = np.random.rand(k)\n",
    "        return interval_endpoints.searchsorted(U)\n",
    "\n",
    "pmf = [0.1, 0.3, 0.6]\n",
    "my_rv = discreteRV(pmf)\n",
    "N = 10000\n",
    "sample = my_rv.draw(N)\n",
    "for i in range(len(pmf)):\n",
    "    print('x = {0}:  {1:3.2f}%, P(x = {0}) = {2:3.2f}%' \\\n",
    "          .format(i, 100*np.sum(sample == i) / N, pmf[i]*100))\n"
   ]
  },
  {
   "cell_type": "markdown",
   "metadata": {},
   "source": [
    "### Exercise 3\n",
    "Update the `ECDF` class to\n",
    "1. Make the `__call__` method more efficient using NumPy\n",
    "2. Add a method that plots the ECDF over $[a, b]$ where $a$ and $b$ are method parameters"
   ]
  },
  {
   "cell_type": "code",
   "execution_count": 57,
   "metadata": {},
   "outputs": [
    {
     "data": {
      "image/png": "[encoded data removed]",
      "text/plain": [
       "<matplotlib.figure.Figure at 0x8272400>"
      ]
     },
     "metadata": {},
     "output_type": "display_data"
    }
   ],
   "source": [
    "from random import uniform, normalvariate\n",
    "import numpy as np\n",
    "import matplotlib.pyplot as plt\n",
    "\n",
    "class ECDF:\n",
    "    def __init__(self, sample):\n",
    "        self.observations = np.asarray(sample)\n",
    "        self.observations.sort()\n",
    "        self.N = self.observations.size\n",
    "       \n",
    "    def __call__(self, x):\n",
    "        return self.observations.searchsorted(x) / self.N\n",
    "    \n",
    "    def plot(self, a, b):\n",
    "        x_to_plot = np.linspace(a, b, 100)\n",
    "        fig, ax = plt.subplots()\n",
    "        ax.plot(x_to_plot, self(x_to_plot), 'b.')\n",
    "        ax.set_xlabel('$x$')\n",
    "        ax.set_ylabel('$F_n(x)$')\n",
    "        ax.set_title('Empirical CDF')\n",
    "        plt.show()\n",
    "        \n",
    "    \n",
    "F = ECDF(np.random.randn(1000))\n",
    "F.plot(-2, 2)"
   ]
  },
  {
   "cell_type": "code",
   "execution_count": null,
   "metadata": {
    "collapsed": true
   },
   "outputs": [],
   "source": []
  }
 ],
 "metadata": {
  "kernelspec": {
   "display_name": "Python [default]",
   "language": "python",
   "name": "python3"
  },
  "language_info": {
   "codemirror_mode": {
    "name": "ipython",
    "version": 3
   },
   "file_extension": ".py",
   "mimetype": "text/x-python",
   "name": "python",
   "nbconvert_exporter": "python",
   "pygments_lexer": "ipython3",
   "version": "3.6.1"
  }
 },
 "nbformat": 4,
 "nbformat_minor": 2
}
