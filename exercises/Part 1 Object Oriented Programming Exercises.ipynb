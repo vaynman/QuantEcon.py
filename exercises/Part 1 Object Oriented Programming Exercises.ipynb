{
 "cells": [
  {
   "cell_type": "markdown",
   "metadata": {},
   "source": [
    "### Exercise 1\n",
    "Implement the empirical cdf $F_n$ as a class called `ECDF` where,\n",
    "- A given sample ${X_i}_{i=1}^n$ are the instance data, stored as `self.observations`\n",
    "- The class implements a `__call__` method that returns $F_n(x)$ for any $x$"
   ]
  },
  {
   "cell_type": "code",
   "execution_count": 23,
   "metadata": {},
   "outputs": [
    {
     "data": {
      "image/png": "[encoded data removed]",
      "text/plain": [
       "<matplotlib.figure.Figure at 0x8140710>"
      ]
     },
     "metadata": {},
     "output_type": "display_data"
    }
   ],
   "source": [
    "from random import uniform, normalvariate\n",
    "import matplotlib.pyplot as plt\n",
    "\n",
    "class ECDF:\n",
    "    def __init__(self, sample):\n",
    "        self.observations = sample\n",
    "        self.N = len(self.observations)\n",
    "       \n",
    "    def __call__(self, x):\n",
    "        return len([x_i for x_i in self.observations if x_i <= x])/self.N\n",
    "\n",
    "F = ECDF([uniform(0, 1) for i in range(10)])\n",
    "F(0.5)\n",
    "\n",
    "\n",
    "x_to_plot = [i/100 for i in range(100)]\n",
    "fig, ax = plt.subplots()\n",
    "ax.plot(x_to_plot, [F(x) for x in x_to_plot], 'b.')\n",
    "ax.set_xlabel('$x$')\n",
    "ax.set_ylabel('$F_n(x)$')\n",
    "ax.set_title('Empirical CDF of U(0,1)')\n",
    "plt.show()"
   ]
  },
  {
   "cell_type": "markdown",
   "metadata": {},
   "source": [
    "### Exercise 2\n",
    "Build a simple class `Polynomial` for representing and manipulating polynomial functions. Provide methods that,\n",
    "- Evaluate the polynomial, returning $p(x)$ for any $x$\n",
    "- Differentiate the polynomial, replacing the original coefficients with those of its derivative, $p'$"
   ]
  },
  {
   "cell_type": "code",
   "execution_count": 74,
   "metadata": {},
   "outputs": [
    {
     "name": "stdout",
     "output_type": "stream",
     "text": [
      "p(x) = - 11 + 5x + 2x^2\n",
      "p(5) = 64\n",
      "p'(x) =  5 + 4x\n",
      "p'(5) = 25\n",
      "p''(x) =  4\n",
      "p''(5) = 4\n",
      "p'''(x) = 0\n",
      "p'''(5) = 0\n",
      "p''''(x) = 0\n",
      "p''''(5) = 0\n"
     ]
    }
   ],
   "source": [
    "class Polynomial:\n",
    "    \n",
    "    def __init__(self, coefficients):\n",
    "        \"\"\"\n",
    "        Creates an instance of the Polynomial class representing\n",
    "            p(x) = a_0 + a_1 x^1 + ... + a_n x^n\n",
    "        where a_i = coefficients[i]\n",
    "        \"\"\"\n",
    "        if not coefficients:\n",
    "            coefficients = [0]\n",
    "        self.coefficients = coefficients\n",
    "\n",
    "    def __call__(self, x):\n",
    "        \"Evaluates the polynomial at x\"\n",
    "        return sum(x**i * a for i, a in enumerate(self.coefficients))\n",
    "    \n",
    "    def __str__(self):\n",
    "        \"Create a string representation\"\n",
    "        poly_str = ''\n",
    "        for i, a in enumerate(self.coefficients):\n",
    "            if a == 0:\n",
    "                continue\n",
    "            sign = '+' if a > 0 else '-'\n",
    "            poly_str = '{0} {1} {2}'.format(poly_str, sign, abs(a))\n",
    "            if i > 1:\n",
    "                poly_str = '{0}x^{1}'.format(poly_str, i)\n",
    "            elif i == 1:\n",
    "                poly_str = poly_str + 'x'\n",
    "        poly_str = poly_str.strip()\n",
    "        if not poly_str:\n",
    "            return '0'\n",
    "        if poly_str[0] == '+':\n",
    "            poly_str = poly_str[1:]\n",
    "        return poly_str\n",
    "        \n",
    "    def differentiate(self):\n",
    "        \"Change the coefficients to those of the derivitive of p\"\n",
    "        self.coefficients = [i * a for i, a in enumerate(self.coefficients) if i > 0]\n",
    "        if not self.coefficients:\n",
    "            self.coefficients = [0]\n",
    "        \n",
    "        \n",
    "p = Polynomial([-11,5,2])\n",
    "x = 5\n",
    "\n",
    "derivative = 0\n",
    "while derivative < 5:\n",
    "    derivative_symbol = '\\'' * derivative\n",
    "    print('p{0}(x) = {1}'.format(derivative_symbol, p))\n",
    "    print('p{0}({1}) = {2}'.format(derivative_symbol, x, p(x)))\n",
    "    derivative += 1\n",
    "    p.differentiate()\n"
   ]
  }
 ],
 "metadata": {
  "kernelspec": {
   "display_name": "Python [default]",
   "language": "python",
   "name": "python3"
  },
  "language_info": {
   "codemirror_mode": {
    "name": "ipython",
    "version": 3
   },
   "file_extension": ".py",
   "mimetype": "text/x-python",
   "name": "python",
   "nbconvert_exporter": "python",
   "pygments_lexer": "ipython3",
   "version": "3.6.1"
  }
 },
 "nbformat": 4,
 "nbformat_minor": 2
}
