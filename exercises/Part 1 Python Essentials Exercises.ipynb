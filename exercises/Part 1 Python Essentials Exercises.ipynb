{
 "cells": [
  {
   "cell_type": "markdown",
   "metadata": {},
   "source": [
    "### Exercise 1"
   ]
  },
  {
   "cell_type": "markdown",
   "metadata": {},
   "source": [
    "Part 1: Given two numeric lists or tuples `x_vals` and `y_vals` of equal length, compute their inner product using `zip()`\n",
    "\n",
    "Part 2: In one line count the number of even numbers 0, ..., 999\n",
    "\n",
    "Part 3: Given `pairs = ((2, 5), (4, 2), (9, 8), (12, 0))`, count the number of pairs `(a, b)` such that both `a` and `b` are even"
   ]
  },
  {
   "cell_type": "code",
   "execution_count": 33,
   "metadata": {},
   "outputs": [
    {
     "name": "stdout",
     "output_type": "stream",
     "text": [
      "<(1, 3, 4), (1, 2, 0)> = 7\n",
      "# Evens 0, ... 99  = 50\n",
      "# Even pairs = 2\n"
     ]
    }
   ],
   "source": [
    "# Part 1\n",
    "def inner_product(x, y):\n",
    "    return sum(a * b for a, b in zip(x, y))\n",
    "\n",
    "x_vals = (1,3,4)\n",
    "y_vals = (1,2,0)\n",
    "print('<{0}, {1}> = {2}'.format(x_vals, y_vals, inner_product(x_vals, y_vals)))\n",
    "\n",
    "# Part 2\n",
    "def count_evens(vals):\n",
    "    return sum(x % 2 == 0 for x in vals)\n",
    "\n",
    "print('# Evens 0, ... 99  = {0}'.format(count_evens(range(100))))\n",
    "    \n",
    "# Part 3\n",
    "def count_even_pairs(pairs):\n",
    "    return sum(count_evens(pair) == 2 for pair in pairs)\n",
    "\n",
    "pairs = ((2, 5), (4, 2), (9, 8), (12, 0))\n",
    "print('# Even pairs = ' + str(count_even_pairs(pairs)))\n",
    "\n",
    "    "
   ]
  },
  {
   "cell_type": "markdown",
   "metadata": {},
   "source": [
    "### Exercise 2\n",
    "Consider the polynomial\n",
    "$$\n",
    "p(x) = a_0 + a_1 x + a_2 x^2 + \\cdots + a_n x^n = \\sum_{i=0}^n a_i x^i\n",
    "$$\n",
    "Write a function `p` such that `p(x, coeff)` computes the value given a point `x` and a list of coefficients `coeff`"
   ]
  },
  {
   "cell_type": "code",
   "execution_count": 22,
   "metadata": {},
   "outputs": [
    {
     "name": "stdout",
     "output_type": "stream",
     "text": [
      "88\n"
     ]
    }
   ],
   "source": [
    "def p(x, coeff):\n",
    "    return sum(a * x ** i for i, a in enumerate(coeff))\n",
    "\n",
    "coeff = [1, 2, 0, 3]\n",
    "print(p(3, coeff))"
   ]
  },
  {
   "cell_type": "markdown",
   "metadata": {},
   "source": [
    "### Exercise 3\n",
    "Write a function that takes a string as an argument and returns the number of capital letters in the string"
   ]
  },
  {
   "cell_type": "code",
   "execution_count": 34,
   "metadata": {},
   "outputs": [
    {
     "name": "stdout",
     "output_type": "stream",
     "text": [
      "# of capitals in \"Hello THis is a TesT\" = 5\n"
     ]
    }
   ],
   "source": [
    "def count_capitals(s):\n",
    "    return sum(a == b and a.isalpha() for a, b in zip(s, s.upper()))\n",
    "    \n",
    "s = 'Hello THis is a TesT'\n",
    "print('# of capitals in \"{0}\" = {1}'.format(s, count_capitals(s)))"
   ]
  },
  {
   "cell_type": "markdown",
   "metadata": {},
   "source": [
    "### Exercise 4\n",
    "Write a function that takes two sequences `seq_a` and `seq_b` as arguments and returns `True` if every element in `seq_a` is also an element of `seq_b`, else `False`. _(Do this without sets)_"
   ]
  },
  {
   "cell_type": "code",
   "execution_count": 32,
   "metadata": {},
   "outputs": [
    {
     "data": {
      "text/plain": [
       "False"
      ]
     },
     "execution_count": 32,
     "metadata": {},
     "output_type": "execute_result"
    }
   ],
   "source": [
    "def my_issubset(seq_a, seq_b):\n",
    "    for a in seq_a:\n",
    "        if a not in seq_b:\n",
    "            return False\n",
    "    return True\n",
    "\n",
    "my_issubset([1,2,5], [1,2,3,4])"
   ]
  },
  {
   "cell_type": "markdown",
   "metadata": {},
   "source": [
    "### Exercise 5\n",
    "Write a function `linapprox` that takes as arguments\n",
    "- a function `f` mapping some interval $[a, b] \\rightarrow \\mathbb{R}$\n",
    "- two scalars `a` and `b` providing the limits of the interval\n",
    "- an integer `n` determining the number of grid points\n",
    "- a number `x` satisfying `a <= x <= b`\n",
    "\n",
    "and returns the piecewise linear interpolation of `f` at `x`, based on `n` evenly spaced grid points `a = point[0] < point[1] < ... < point[n-1] = b`"
   ]
  },
  {
   "cell_type": "code",
   "execution_count": 48,
   "metadata": {},
   "outputs": [
    {
     "name": "stdout",
     "output_type": "stream",
     "text": [
      "0.8115702479338843\n"
     ]
    }
   ],
   "source": [
    "def linapprox(f, a, b, n, x):\n",
    "    if x == a:\n",
    "        return f(a)\n",
    "    if x == b:\n",
    "        return f(b)\n",
    "    \n",
    "    step = (b - a) / n\n",
    "    i = (x - a) // step  # max grid point such that point[i] <= x\n",
    "    \n",
    "    # Linear slope between grid points\n",
    "    u = a + i * step\n",
    "    v = u + step\n",
    "    m = (f(v) - f(u)) / (v - u)\n",
    "    \n",
    "    return (x - u) * m + f(u)\n",
    "\n",
    "f = lambda x : x**2\n",
    "print(linapprox(f, 0, 2, 11, 0.9))"
   ]
  }
 ],
 "metadata": {
  "kernelspec": {
   "display_name": "Python [default]",
   "language": "python",
   "name": "python3"
  },
  "language_info": {
   "codemirror_mode": {
    "name": "ipython",
    "version": 3
   },
   "file_extension": ".py",
   "mimetype": "text/x-python",
   "name": "python",
   "nbconvert_exporter": "python",
   "pygments_lexer": "ipython3",
   "version": "3.6.1"
  }
 },
 "nbformat": 4,
 "nbformat_minor": 2
}
